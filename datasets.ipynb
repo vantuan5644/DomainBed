{
 "cells": [
  {
   "cell_type": "code",
   "execution_count": 1,
   "id": "initial_id",
   "metadata": {
    "collapsed": true,
    "ExecuteTime": {
     "end_time": "2024-03-13T02:28:44.556335508Z",
     "start_time": "2024-03-13T02:28:44.130168993Z"
    }
   },
   "outputs": [
    {
     "name": "stderr",
     "output_type": "stream",
     "text": [
      "WARNING:root:The WILDS package is out of date. Your version is 1.2.2, while the latest version is 2.0.0.\n"
     ]
    }
   ],
   "source": [
    "from PIL import Image\n",
    "\n",
    "from domainbed import datasets\n"
   ]
  },
  {
   "cell_type": "code",
   "execution_count": 2,
   "outputs": [],
   "source": [
    "DATASETS = [\n",
    "    \"VLCS\",\n",
    "    \"PACS\",\n",
    "    # \"OfficeHome\",\n",
    "    # \"DomainNet\",\n",
    "]"
   ],
   "metadata": {
    "collapsed": false,
    "ExecuteTime": {
     "end_time": "2024-03-13T02:28:44.559409238Z",
     "start_time": "2024-03-13T02:28:44.556830841Z"
    }
   },
   "id": "69b0030639712663"
  },
  {
   "cell_type": "code",
   "execution_count": 3,
   "outputs": [],
   "source": [
    "import random\n",
    "import torch\n",
    "import argparse\n",
    "from domainbed import hparams_registry\n",
    "import imageio\n",
    "import os\n",
    "from tqdm import tqdm\n"
   ],
   "metadata": {
    "collapsed": false,
    "ExecuteTime": {
     "end_time": "2024-03-13T02:28:46.753370607Z",
     "start_time": "2024-03-13T02:28:46.743987267Z"
    }
   },
   "id": "9abb4c43f9f7c61"
  },
  {
   "cell_type": "code",
   "execution_count": 5,
   "outputs": [],
   "source": [
    "dataset_name = 'VLCS'"
   ],
   "metadata": {
    "collapsed": false,
    "ExecuteTime": {
     "end_time": "2024-03-13T02:28:52.191958252Z",
     "start_time": "2024-03-13T02:28:52.189410054Z"
    }
   },
   "id": "fea72b3166ca8cc6"
  },
  {
   "cell_type": "code",
   "execution_count": 6,
   "outputs": [],
   "source": [
    "data_dir = \"domainbed/data\"\n"
   ],
   "metadata": {
    "collapsed": false,
    "ExecuteTime": {
     "end_time": "2024-03-13T02:28:52.722850383Z",
     "start_time": "2024-03-13T02:28:52.720809749Z"
    }
   },
   "id": "43b8864c686a18c3"
  },
  {
   "cell_type": "code",
   "execution_count": 7,
   "outputs": [],
   "source": [
    "hparams = hparams_registry.default_hparams('ERM', dataset_name)\n",
    "dataset = datasets.get_dataset_class(dataset_name)(\n",
    "    data_dir,\n",
    "    list(range(datasets.num_environments(dataset_name))),\n",
    "    hparams)"
   ],
   "metadata": {
    "collapsed": false,
    "ExecuteTime": {
     "end_time": "2024-03-13T02:28:53.194076918Z",
     "start_time": "2024-03-13T02:28:53.170581550Z"
    }
   },
   "id": "f8078f09e1f950c6"
  },
  {
   "cell_type": "code",
   "execution_count": 8,
   "outputs": [
    {
     "data": {
      "text/plain": "{'data_augmentation': True,\n 'resnet18': False,\n 'resnet_dropout': 0.0,\n 'class_balanced': False,\n 'nonlinear_classifier': False,\n 'lr': 5e-05,\n 'weight_decay': 0.0,\n 'batch_size': 32}"
     },
     "execution_count": 8,
     "metadata": {},
     "output_type": "execute_result"
    }
   ],
   "source": [
    "hparams"
   ],
   "metadata": {
    "collapsed": false,
    "ExecuteTime": {
     "end_time": "2024-03-13T02:28:53.557264301Z",
     "start_time": "2024-03-13T02:28:53.556219394Z"
    }
   },
   "id": "f18a0b3bf9fa8eed"
  },
  {
   "cell_type": "code",
   "execution_count": 9,
   "outputs": [
    {
     "name": "stdout",
     "output_type": "stream",
     "text": [
      "['C', 'L', 'S', 'V']\n"
     ]
    }
   ],
   "source": [
    "print(dataset.ENVIRONMENTS)"
   ],
   "metadata": {
    "collapsed": false,
    "ExecuteTime": {
     "end_time": "2024-03-13T02:28:54.104580311Z",
     "start_time": "2024-03-13T02:28:54.102458858Z"
    }
   },
   "id": "1ac3dfb3f33490ba"
  },
  {
   "cell_type": "code",
   "execution_count": 10,
   "outputs": [
    {
     "name": "stdout",
     "output_type": "stream",
     "text": [
      "['bird', 'car', 'chair', 'dog', 'person']\n"
     ]
    }
   ],
   "source": [
    "print(dataset[-1].classes)"
   ],
   "metadata": {
    "collapsed": false,
    "ExecuteTime": {
     "end_time": "2024-03-13T02:28:54.665759253Z",
     "start_time": "2024-03-13T02:28:54.658196670Z"
    }
   },
   "id": "c84e79a491e1bd18"
  },
  {
   "cell_type": "code",
   "execution_count": 11,
   "outputs": [
    {
     "data": {
      "text/plain": "1415"
     },
     "execution_count": 11,
     "metadata": {},
     "output_type": "execute_result"
    }
   ],
   "source": [
    "len(dataset[0].samples)"
   ],
   "metadata": {
    "collapsed": false,
    "ExecuteTime": {
     "end_time": "2024-03-13T02:28:55.805658183Z",
     "start_time": "2024-03-13T02:28:55.803503560Z"
    }
   },
   "id": "158b6a6657ec927e"
  },
  {
   "cell_type": "code",
   "execution_count": 12,
   "outputs": [
    {
     "data": {
      "text/plain": "<bound method VisionDataset.extra_repr of Dataset ImageFolder\n    Number of datapoints: 1415\n    Root location: domainbed/data/VLCS/Caltech101\n    StandardTransform\nTransform: Compose(\n               Resize(size=(224, 224), interpolation=PIL.Image.BILINEAR)\n               ToTensor()\n               Normalize(mean=[0.485, 0.456, 0.406], std=[0.229, 0.224, 0.225])\n           )>"
     },
     "execution_count": 12,
     "metadata": {},
     "output_type": "execute_result"
    }
   ],
   "source": [
    "dataset[0].extra_repr"
   ],
   "metadata": {
    "collapsed": false,
    "ExecuteTime": {
     "end_time": "2024-03-13T02:28:56.563350776Z",
     "start_time": "2024-03-13T02:28:56.561828046Z"
    }
   },
   "id": "1d5227942e29f241"
  },
  {
   "cell_type": "code",
   "execution_count": 13,
   "outputs": [
    {
     "data": {
      "text/plain": "['bird', 'car', 'chair', 'dog', 'person']"
     },
     "execution_count": 13,
     "metadata": {},
     "output_type": "execute_result"
    }
   ],
   "source": [
    "dataset[0].classes"
   ],
   "metadata": {
    "collapsed": false,
    "ExecuteTime": {
     "end_time": "2024-03-13T02:28:57.089680214Z",
     "start_time": "2024-03-13T02:28:57.088308002Z"
    }
   },
   "id": "8f8b1848d64e3cc"
  },
  {
   "cell_type": "code",
   "execution_count": 14,
   "outputs": [],
   "source": [
    "import pandas as pd\n"
   ],
   "metadata": {
    "collapsed": false,
    "ExecuteTime": {
     "end_time": "2024-03-13T02:29:03.405712468Z",
     "start_time": "2024-03-13T02:29:03.402282142Z"
    }
   },
   "id": "2178b54edb19c2cb"
  },
  {
   "cell_type": "code",
   "execution_count": 15,
   "outputs": [
    {
     "name": "stderr",
     "output_type": "stream",
     "text": [
      "Processing VLCS C: 100%|██████████████████| 1415/1415 [00:01<00:00, 1393.17it/s]\n",
      "Processing VLCS L: 100%|████████████████████| 2656/2656 [01:28<00:00, 29.99it/s]\n",
      "Processing VLCS S: 100%|███████████████████| 3282/3282 [00:12<00:00, 271.88it/s]\n",
      "Processing VLCS V: 100%|███████████████████| 3376/3376 [00:05<00:00, 594.37it/s]\n",
      "Processing PACS A: 100%|██████████████████| 2048/2048 [00:01<00:00, 1946.22it/s]\n",
      "Processing PACS C: 100%|██████████████████| 2344/2344 [00:00<00:00, 2352.51it/s]\n",
      "Processing PACS P: 100%|██████████████████| 1670/1670 [00:00<00:00, 1982.62it/s]\n",
      "Processing PACS S: 100%|██████████████████| 3929/3929 [00:01<00:00, 2030.33it/s]\n"
     ]
    }
   ],
   "source": [
    "for dataset_name in DATASETS:\n",
    "    hparams = hparams_registry.default_hparams('ERM', dataset_name)\n",
    "    dataset = datasets.get_dataset_class(dataset_name)(\n",
    "        data_dir,\n",
    "        list(range(datasets.num_environments(dataset_name))),\n",
    "        hparams)\n",
    "    df = []\n",
    "\n",
    "    for i, env in enumerate(dataset.ENVIRONMENTS):\n",
    "        pbar = tqdm(dataset[i].samples, desc=f\"Processing {dataset_name} {env}\")\n",
    "        for j, (x, y) in enumerate(dataset[i].samples):\n",
    "            # verify image\n",
    "            try:\n",
    "                Image.open(x).convert(\"RGB\").verify()\n",
    "            except:\n",
    "                # pbar message\n",
    "                pbar.set_postfix_str(f\"Invalid image: {x}\")\n",
    "                continue\n",
    "            df.append({\"path\": x,\n",
    "                       \"label\": y,\n",
    "                       \"env\": env,\n",
    "                       \"env_id\": i,\n",
    "                       \"class_name\": dataset[i].classes[y],\n",
    "                       \"sample_id\": j})\n",
    "            pbar.update(1)\n",
    "        pbar.close()\n",
    "    df = pd.DataFrame(df)\n",
    "\n",
    "    # train/val split based on both environment and label\n",
    "    import sklearn.model_selection\n",
    "    \n",
    "    df[\"env_cls\"] = df[\"env\"] + \"_\" + df[\"class_name\"]\n",
    "    \n",
    "    df[\"train\"] = False\n",
    "    \n",
    "    for env_cls, group in df.groupby(\"env_cls\"):\n",
    "        train, val = sklearn.model_selection.train_test_split(group, test_size=0.2, stratify=group[\"label\"])\n",
    "        df.loc[val.index, \"train\"] = False\n",
    "        df.loc[train.index, \"train\"] = True\n",
    "    \n",
    "    df.to_csv(f\"{dataset_name}.csv\", index=False)"
   ],
   "metadata": {
    "collapsed": false,
    "ExecuteTime": {
     "end_time": "2024-03-13T02:30:57.307395580Z",
     "start_time": "2024-03-13T02:29:05.022875007Z"
    }
   },
   "id": "c7b5408795e5ab09"
  },
  {
   "cell_type": "code",
   "execution_count": null,
   "outputs": [],
   "source": [
    "import matplotlib.pyplot as plt\n",
    "import numpy as np"
   ],
   "metadata": {
    "collapsed": false
   },
   "id": "5e952de6d627c2c3"
  },
  {
   "cell_type": "code",
   "execution_count": null,
   "outputs": [],
   "source": [
    "\n",
    "# # plot class distribution between environments\n",
    "# for dataset_name in ['PACS', 'VLCS']:\n",
    "#     df = pd.read_csv(f\"{dataset_name}.csv\")\n",
    "#     plt.figure()\n",
    "#     df.groupby(\"env\")[\"label\"].value_counts().unstack().plot(kind=\"bar\", stacked=True)\n",
    "#     plt.title(dataset_name)\n",
    "#     plt.show()"
   ],
   "metadata": {
    "collapsed": false
   },
   "id": "e172341fa7862f10"
  },
  {
   "cell_type": "code",
   "execution_count": null,
   "outputs": [],
   "source": [
    "# plot class distribution between train/val\n",
    "for dataset_name in ['PACS', 'VLCS']:\n",
    "    df = pd.read_csv(f\"{dataset_name}.csv\")\n",
    "    plt.figure()\n",
    "    df.groupby(\"train\")[\"label\"].value_counts().unstack().plot(kind=\"bar\", stacked=True)\n",
    "    plt.title(dataset_name)\n",
    "    \n",
    "    # save to file\n",
    "    plt.savefig(f\"report/{dataset_name}_train_val_class_distribution.png\", bbox_inches='tight', pad_inches=0.1, dpi=300, transparent=True)\n",
    "    \n",
    "    plt.show()\n",
    "\n"
   ],
   "metadata": {
    "collapsed": false
   },
   "id": "f4d4c0324f6f3c63"
  },
  {
   "cell_type": "code",
   "execution_count": null,
   "outputs": [],
   "source": [
    "# plot env distribution between train/val\n",
    "for dataset_name in ['PACS', 'VLCS']:\n",
    "    df = pd.read_csv(f\"{dataset_name}.csv\")\n",
    "    plt.figure()\n",
    "    df.groupby(\"train\")[\"env\"].value_counts().unstack().plot(kind=\"bar\", stacked=True)\n",
    "    plt.title(dataset_name)\n",
    "    \n",
    "    # save to file\n",
    "    plt.savefig(f\"report/{dataset_name}_train_val_env_distribution.png\", bbox_inches='tight', pad_inches=0.1, dpi=300, transparent=True)"
   ],
   "metadata": {
    "collapsed": false
   },
   "id": "18591516a7d2cd1a"
  },
  {
   "cell_type": "code",
   "execution_count": null,
   "outputs": [],
   "source": [],
   "metadata": {
    "collapsed": false
   },
   "id": "37e5664792755b77"
  }
 ],
 "metadata": {
  "kernelspec": {
   "display_name": "Python 3",
   "language": "python",
   "name": "python3"
  },
  "language_info": {
   "codemirror_mode": {
    "name": "ipython",
    "version": 2
   },
   "file_extension": ".py",
   "mimetype": "text/x-python",
   "name": "python",
   "nbconvert_exporter": "python",
   "pygments_lexer": "ipython2",
   "version": "2.7.6"
  }
 },
 "nbformat": 4,
 "nbformat_minor": 5
}
